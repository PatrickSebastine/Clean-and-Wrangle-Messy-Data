{
 "cells": [
  {
   "cell_type": "markdown",
   "id": "f7389695",
   "metadata": {},
   "source": [
    "### Importing library"
   ]
  },
  {
   "cell_type": "code",
   "execution_count": 1,
   "id": "d2f47498",
   "metadata": {},
   "outputs": [],
   "source": [
    "import pandas as pd\n",
    "import numpy as np\n",
    "import re\n",
    "import warnings\n",
    "\n",
    "warnings.filterwarnings('ignore')"
   ]
  },
  {
   "cell_type": "code",
   "execution_count": 2,
   "id": "39f3c749",
   "metadata": {
    "scrolled": true
   },
   "outputs": [],
   "source": [
    "# Load csv file into a pandas DataFrame and correcting delimiter and encoding error\n",
    "df = pd.read_csv(\"messy_data.csv\", delimiter=';', encoding='latin-1')"
   ]
  },
  {
   "cell_type": "code",
   "execution_count": 3,
   "id": "80f9dcff",
   "metadata": {},
   "outputs": [
    {
     "data": {
      "text/plain": [
       "<bound method DataFrame.info of     IMBD title ID               Original titlÊ  Release year  \\\n",
       "0       tt0111161     The Shawshank Redemption    1995-02-10   \n",
       "1       tt0068646                The Godfather    09 21 1972   \n",
       "2       tt0468569              The Dark Knight   23 -07-2008   \n",
       "3       tt0071562       The Godfather: Part II    1975-09-25   \n",
       "4       tt0110912                 Pulp Fiction    1994-10-28   \n",
       "..            ...                          ...           ...   \n",
       "96      tt0070735                    The Sting    1974-03-21   \n",
       "97      tt0082096                     Das Boot    1982-03-18   \n",
       "98      tt0059578  Per qualche dollaro in piÃ¹    1965-12-20   \n",
       "99      tt1832382      Jodaeiye Nader az Simin    2011-10-21   \n",
       "100     tt0045152          Singin' in the Rain    1953-02-05   \n",
       "\n",
       "                         Genrë¨ Duration       Country Content Rating  \\\n",
       "0                         Drama      142           USA              R   \n",
       "1                  Crime, Drama      175           USA              R   \n",
       "2          Action, Crime, Drama      152            US          PG-13   \n",
       "3                  Crime, Drama      220           USA              R   \n",
       "4                  Crime, Drama                    USA              R   \n",
       "..                          ...      ...           ...            ...   \n",
       "96         Comedy, Crime, Drama      129           USA             PG   \n",
       "97   Adventure, Drama, Thriller      149  West Germany              R   \n",
       "98                      Western      132         Italy            NaN   \n",
       "99                        Drama      123          Iran          PG-13   \n",
       "100    Comedy, Musical, Romance      103           USA            NaN   \n",
       "\n",
       "                 Director  Unnamed: 8         Income     Votes  Score  \n",
       "0          Frank Darabont         NaN     $ 28815245  2.278.845   9.3  \n",
       "1    Francis Ford Coppola         NaN    $ 246120974  1.572.674   9.2  \n",
       "2       Christopher Nolan         NaN   $ 1005455211  2.241.615    9.  \n",
       "3    Francis Ford Coppola         NaN  $ 4o8,035,783  1.098.714  9,.0  \n",
       "4       Quentin Tarantino         NaN    $ 222831817  1.780.147  8,9f  \n",
       "..                    ...         ...            ...        ...   ...  \n",
       "96        George Roy Hill         NaN    $ 156000000    236.285   7.5  \n",
       "97      Wolfgang Petersen         NaN     $ 11487676    226.427   7.5  \n",
       "98           Sergio Leone         NaN     $ 15000000    226.039   7.4  \n",
       "99         Asghar Farhadi         NaN     $ 22926076    214.165   7.4  \n",
       "100         Stanley Donen         NaN      $ 1864182    213.152   7.4  \n",
       "\n",
       "[101 rows x 12 columns]>"
      ]
     },
     "execution_count": 3,
     "metadata": {},
     "output_type": "execute_result"
    }
   ],
   "source": [
    "# Interogating the data in the dataset\n",
    "df.info"
   ]
  },
  {
   "cell_type": "code",
   "execution_count": 4,
   "id": "40b1ab87",
   "metadata": {},
   "outputs": [
    {
     "name": "stdout",
     "output_type": "stream",
     "text": [
      "<class 'pandas.core.frame.DataFrame'>\n",
      "RangeIndex: 101 entries, 0 to 100\n",
      "Data columns (total 12 columns):\n",
      " #   Column          Non-Null Count  Dtype  \n",
      "---  ------          --------------  -----  \n",
      " 0   IMBD title ID   100 non-null    object \n",
      " 1   Original titlÊ  100 non-null    object \n",
      " 2   Release year    100 non-null    object \n",
      " 3   Genrë¨          100 non-null    object \n",
      " 4   Duration        99 non-null     object \n",
      " 5   Country         100 non-null    object \n",
      " 6   Content Rating  77 non-null     object \n",
      " 7   Director        100 non-null    object \n",
      " 8   Unnamed: 8      0 non-null      float64\n",
      " 9   Income          100 non-null    object \n",
      " 10   Votes          100 non-null    object \n",
      " 11  Score           100 non-null    object \n",
      "dtypes: float64(1), object(11)\n",
      "memory usage: 9.6+ KB\n"
     ]
    }
   ],
   "source": [
    "# Obtaining information about the Data type of the columns\n",
    "df.info()"
   ]
  },
  {
   "cell_type": "markdown",
   "id": "5390d3c4",
   "metadata": {},
   "source": [
    "### 1.0 Cleaning process starts"
   ]
  },
  {
   "cell_type": "code",
   "execution_count": 5,
   "id": "c9b0047f",
   "metadata": {},
   "outputs": [],
   "source": [
    "# Make all the column headers lowercase \n",
    "df.columns = df.columns.str.lower()"
   ]
  },
  {
   "cell_type": "code",
   "execution_count": 6,
   "id": "fad6a2fd",
   "metadata": {},
   "outputs": [],
   "source": [
    "# Drop the empty unnamed column\n",
    "df = df.drop('unnamed: 8', axis = 1)"
   ]
  },
  {
   "cell_type": "code",
   "execution_count": 7,
   "id": "be8558da",
   "metadata": {},
   "outputs": [
    {
     "data": {
      "text/html": [
       "<div>\n",
       "<style scoped>\n",
       "    .dataframe tbody tr th:only-of-type {\n",
       "        vertical-align: middle;\n",
       "    }\n",
       "\n",
       "    .dataframe tbody tr th {\n",
       "        vertical-align: top;\n",
       "    }\n",
       "\n",
       "    .dataframe thead th {\n",
       "        text-align: right;\n",
       "    }\n",
       "</style>\n",
       "<table border=\"1\" class=\"dataframe\">\n",
       "  <thead>\n",
       "    <tr style=\"text-align: right;\">\n",
       "      <th></th>\n",
       "      <th>imbd title id</th>\n",
       "      <th>original titlê</th>\n",
       "      <th>release year</th>\n",
       "      <th>genrë¨</th>\n",
       "      <th>duration</th>\n",
       "      <th>country</th>\n",
       "      <th>content rating</th>\n",
       "      <th>director</th>\n",
       "      <th>income</th>\n",
       "      <th>votes</th>\n",
       "      <th>score</th>\n",
       "    </tr>\n",
       "  </thead>\n",
       "  <tbody>\n",
       "    <tr>\n",
       "      <th>0</th>\n",
       "      <td>tt0111161</td>\n",
       "      <td>The Shawshank Redemption</td>\n",
       "      <td>1995-02-10</td>\n",
       "      <td>Drama</td>\n",
       "      <td>142</td>\n",
       "      <td>USA</td>\n",
       "      <td>R</td>\n",
       "      <td>Frank Darabont</td>\n",
       "      <td>$ 28815245</td>\n",
       "      <td>2.278.845</td>\n",
       "      <td>9.3</td>\n",
       "    </tr>\n",
       "    <tr>\n",
       "      <th>1</th>\n",
       "      <td>tt0068646</td>\n",
       "      <td>The Godfather</td>\n",
       "      <td>09 21 1972</td>\n",
       "      <td>Crime, Drama</td>\n",
       "      <td>175</td>\n",
       "      <td>USA</td>\n",
       "      <td>R</td>\n",
       "      <td>Francis Ford Coppola</td>\n",
       "      <td>$ 246120974</td>\n",
       "      <td>1.572.674</td>\n",
       "      <td>9.2</td>\n",
       "    </tr>\n",
       "    <tr>\n",
       "      <th>2</th>\n",
       "      <td>tt0468569</td>\n",
       "      <td>The Dark Knight</td>\n",
       "      <td>23 -07-2008</td>\n",
       "      <td>Action, Crime, Drama</td>\n",
       "      <td>152</td>\n",
       "      <td>US</td>\n",
       "      <td>PG-13</td>\n",
       "      <td>Christopher Nolan</td>\n",
       "      <td>$ 1005455211</td>\n",
       "      <td>2.241.615</td>\n",
       "      <td>9.</td>\n",
       "    </tr>\n",
       "    <tr>\n",
       "      <th>3</th>\n",
       "      <td>tt0071562</td>\n",
       "      <td>The Godfather: Part II</td>\n",
       "      <td>1975-09-25</td>\n",
       "      <td>Crime, Drama</td>\n",
       "      <td>220</td>\n",
       "      <td>USA</td>\n",
       "      <td>R</td>\n",
       "      <td>Francis Ford Coppola</td>\n",
       "      <td>$ 4o8,035,783</td>\n",
       "      <td>1.098.714</td>\n",
       "      <td>9,.0</td>\n",
       "    </tr>\n",
       "    <tr>\n",
       "      <th>4</th>\n",
       "      <td>tt0110912</td>\n",
       "      <td>Pulp Fiction</td>\n",
       "      <td>1994-10-28</td>\n",
       "      <td>Crime, Drama</td>\n",
       "      <td></td>\n",
       "      <td>USA</td>\n",
       "      <td>R</td>\n",
       "      <td>Quentin Tarantino</td>\n",
       "      <td>$ 222831817</td>\n",
       "      <td>1.780.147</td>\n",
       "      <td>8,9f</td>\n",
       "    </tr>\n",
       "    <tr>\n",
       "      <th>5</th>\n",
       "      <td>tt0167260</td>\n",
       "      <td>The Lord of the Rings: The Return of the King</td>\n",
       "      <td>22 Feb 04</td>\n",
       "      <td>Action, Adventure, Drama</td>\n",
       "      <td>201</td>\n",
       "      <td>New Zealand</td>\n",
       "      <td>PG-13</td>\n",
       "      <td>Peter Jackson</td>\n",
       "      <td>$ 1142271098</td>\n",
       "      <td>1.604.280</td>\n",
       "      <td>08.9</td>\n",
       "    </tr>\n",
       "    <tr>\n",
       "      <th>6</th>\n",
       "      <td>tt0108052</td>\n",
       "      <td>Schindler's List</td>\n",
       "      <td>1994-03-11</td>\n",
       "      <td>Biography, Drama, History</td>\n",
       "      <td>Nan</td>\n",
       "      <td>USA</td>\n",
       "      <td>R</td>\n",
       "      <td>Steven Spielberg</td>\n",
       "      <td>$ 322287794</td>\n",
       "      <td>1.183.248</td>\n",
       "      <td>8.9</td>\n",
       "    </tr>\n",
       "    <tr>\n",
       "      <th>7</th>\n",
       "      <td>tt0050083</td>\n",
       "      <td>12 Angry Men</td>\n",
       "      <td>1957-09-04</td>\n",
       "      <td>Crime, Drama</td>\n",
       "      <td>96</td>\n",
       "      <td>USA</td>\n",
       "      <td>Not Rated</td>\n",
       "      <td>Sidney Lumet</td>\n",
       "      <td>$ 576</td>\n",
       "      <td>668.473</td>\n",
       "      <td>8.9</td>\n",
       "    </tr>\n",
       "    <tr>\n",
       "      <th>8</th>\n",
       "      <td>tt1375666</td>\n",
       "      <td>Inception</td>\n",
       "      <td>2010-09-24</td>\n",
       "      <td>Action, Adventure, Sci-Fi</td>\n",
       "      <td>148</td>\n",
       "      <td>USA</td>\n",
       "      <td>PG-13</td>\n",
       "      <td>Christopher Nolan</td>\n",
       "      <td>$ 869784991</td>\n",
       "      <td>2.002.816</td>\n",
       "      <td>8..8</td>\n",
       "    </tr>\n",
       "    <tr>\n",
       "      <th>9</th>\n",
       "      <td>tt0137523</td>\n",
       "      <td>Fight Club</td>\n",
       "      <td>10-29-99</td>\n",
       "      <td>Drama</td>\n",
       "      <td>Inf</td>\n",
       "      <td>UK</td>\n",
       "      <td>R</td>\n",
       "      <td>David Fincher</td>\n",
       "      <td>$ 101218804</td>\n",
       "      <td>1.807.440</td>\n",
       "      <td>8.8</td>\n",
       "    </tr>\n",
       "  </tbody>\n",
       "</table>\n",
       "</div>"
      ],
      "text/plain": [
       "  imbd title id                                 original titlê  release year  \\\n",
       "0     tt0111161                       The Shawshank Redemption    1995-02-10   \n",
       "1     tt0068646                                  The Godfather    09 21 1972   \n",
       "2     tt0468569                                The Dark Knight   23 -07-2008   \n",
       "3     tt0071562                         The Godfather: Part II    1975-09-25   \n",
       "4     tt0110912                                   Pulp Fiction    1994-10-28   \n",
       "5     tt0167260  The Lord of the Rings: The Return of the King     22 Feb 04   \n",
       "6     tt0108052                               Schindler's List    1994-03-11   \n",
       "7     tt0050083                                   12 Angry Men    1957-09-04   \n",
       "8     tt1375666                                      Inception    2010-09-24   \n",
       "9     tt0137523                                     Fight Club      10-29-99   \n",
       "\n",
       "                      genrë¨ duration      country content rating  \\\n",
       "0                      Drama      142          USA              R   \n",
       "1               Crime, Drama      175          USA              R   \n",
       "2       Action, Crime, Drama      152           US          PG-13   \n",
       "3               Crime, Drama      220          USA              R   \n",
       "4               Crime, Drama                   USA              R   \n",
       "5   Action, Adventure, Drama      201  New Zealand          PG-13   \n",
       "6  Biography, Drama, History      Nan          USA              R   \n",
       "7               Crime, Drama       96          USA      Not Rated   \n",
       "8  Action, Adventure, Sci-Fi      148          USA          PG-13   \n",
       "9                      Drama      Inf           UK              R   \n",
       "\n",
       "               director         income     votes  score  \n",
       "0        Frank Darabont     $ 28815245  2.278.845   9.3  \n",
       "1  Francis Ford Coppola    $ 246120974  1.572.674   9.2  \n",
       "2     Christopher Nolan   $ 1005455211  2.241.615    9.  \n",
       "3  Francis Ford Coppola  $ 4o8,035,783  1.098.714  9,.0  \n",
       "4     Quentin Tarantino    $ 222831817  1.780.147  8,9f  \n",
       "5         Peter Jackson   $ 1142271098  1.604.280  08.9  \n",
       "6      Steven Spielberg    $ 322287794  1.183.248   8.9  \n",
       "7          Sidney Lumet          $ 576    668.473   8.9  \n",
       "8     Christopher Nolan    $ 869784991  2.002.816  8..8  \n",
       "9         David Fincher    $ 101218804  1.807.440   8.8  "
      ]
     },
     "execution_count": 7,
     "metadata": {},
     "output_type": "execute_result"
    }
   ],
   "source": [
    "# Interogating the first 10 data in the dataset\n",
    "df.head(10)"
   ]
  },
  {
   "cell_type": "code",
   "execution_count": 8,
   "id": "bd35a812",
   "metadata": {},
   "outputs": [
    {
     "data": {
      "text/html": [
       "<div>\n",
       "<style scoped>\n",
       "    .dataframe tbody tr th:only-of-type {\n",
       "        vertical-align: middle;\n",
       "    }\n",
       "\n",
       "    .dataframe tbody tr th {\n",
       "        vertical-align: top;\n",
       "    }\n",
       "\n",
       "    .dataframe thead th {\n",
       "        text-align: right;\n",
       "    }\n",
       "</style>\n",
       "<table border=\"1\" class=\"dataframe\">\n",
       "  <thead>\n",
       "    <tr style=\"text-align: right;\">\n",
       "      <th></th>\n",
       "      <th>imbd title id</th>\n",
       "      <th>original titlê</th>\n",
       "      <th>release year</th>\n",
       "      <th>genrë¨</th>\n",
       "      <th>duration</th>\n",
       "      <th>country</th>\n",
       "      <th>content rating</th>\n",
       "      <th>director</th>\n",
       "      <th>income</th>\n",
       "      <th>votes</th>\n",
       "      <th>score</th>\n",
       "    </tr>\n",
       "  </thead>\n",
       "  <tbody>\n",
       "    <tr>\n",
       "      <th>91</th>\n",
       "      <td>tt0086879</td>\n",
       "      <td>Amadeus</td>\n",
       "      <td>1985-02-15</td>\n",
       "      <td>Biography, Drama, History</td>\n",
       "      <td>160</td>\n",
       "      <td>USA</td>\n",
       "      <td>R</td>\n",
       "      <td>Milos Forman</td>\n",
       "      <td>$ 52066791</td>\n",
       "      <td>361.028</td>\n",
       "      <td>7.6</td>\n",
       "    </tr>\n",
       "    <tr>\n",
       "      <th>92</th>\n",
       "      <td>tt0052357</td>\n",
       "      <td>Vertigo</td>\n",
       "      <td>1958-11-18</td>\n",
       "      <td>Mystery, Romance, Thriller</td>\n",
       "      <td>128</td>\n",
       "      <td>USA</td>\n",
       "      <td>NaN</td>\n",
       "      <td>Alfred Hitchcock</td>\n",
       "      <td>$ 7796389</td>\n",
       "      <td>352.786</td>\n",
       "      <td>7.5</td>\n",
       "    </tr>\n",
       "    <tr>\n",
       "      <th>93</th>\n",
       "      <td>tt0053125</td>\n",
       "      <td>North by Northwest</td>\n",
       "      <td>1959-10-28</td>\n",
       "      <td>Adventure, Mystery, Thriller</td>\n",
       "      <td>136</td>\n",
       "      <td>USA</td>\n",
       "      <td>NaN</td>\n",
       "      <td>Alfred Hitchcock</td>\n",
       "      <td>$ 73446</td>\n",
       "      <td>291.628</td>\n",
       "      <td>7.5</td>\n",
       "    </tr>\n",
       "    <tr>\n",
       "      <th>94</th>\n",
       "      <td>tt2106476</td>\n",
       "      <td>Jagten</td>\n",
       "      <td>2012-11-22</td>\n",
       "      <td>Drama</td>\n",
       "      <td>115</td>\n",
       "      <td>Denmark</td>\n",
       "      <td>R</td>\n",
       "      <td>Thomas Vinterberg</td>\n",
       "      <td>$ 15843274</td>\n",
       "      <td>269.616</td>\n",
       "      <td>7.5</td>\n",
       "    </tr>\n",
       "    <tr>\n",
       "      <th>95</th>\n",
       "      <td>tt0056172</td>\n",
       "      <td>Lawrence of Arabia</td>\n",
       "      <td>1963-10-29</td>\n",
       "      <td>Adventure, Biography, Drama</td>\n",
       "      <td>228</td>\n",
       "      <td>UK</td>\n",
       "      <td>PG</td>\n",
       "      <td>David Lean</td>\n",
       "      <td>$ 45710874</td>\n",
       "      <td>261.504</td>\n",
       "      <td>7.5</td>\n",
       "    </tr>\n",
       "    <tr>\n",
       "      <th>96</th>\n",
       "      <td>tt0070735</td>\n",
       "      <td>The Sting</td>\n",
       "      <td>1974-03-21</td>\n",
       "      <td>Comedy, Crime, Drama</td>\n",
       "      <td>129</td>\n",
       "      <td>USA</td>\n",
       "      <td>PG</td>\n",
       "      <td>George Roy Hill</td>\n",
       "      <td>$ 156000000</td>\n",
       "      <td>236.285</td>\n",
       "      <td>7.5</td>\n",
       "    </tr>\n",
       "    <tr>\n",
       "      <th>97</th>\n",
       "      <td>tt0082096</td>\n",
       "      <td>Das Boot</td>\n",
       "      <td>1982-03-18</td>\n",
       "      <td>Adventure, Drama, Thriller</td>\n",
       "      <td>149</td>\n",
       "      <td>West Germany</td>\n",
       "      <td>R</td>\n",
       "      <td>Wolfgang Petersen</td>\n",
       "      <td>$ 11487676</td>\n",
       "      <td>226.427</td>\n",
       "      <td>7.5</td>\n",
       "    </tr>\n",
       "    <tr>\n",
       "      <th>98</th>\n",
       "      <td>tt0059578</td>\n",
       "      <td>Per qualche dollaro in piÃ¹</td>\n",
       "      <td>1965-12-20</td>\n",
       "      <td>Western</td>\n",
       "      <td>132</td>\n",
       "      <td>Italy</td>\n",
       "      <td>NaN</td>\n",
       "      <td>Sergio Leone</td>\n",
       "      <td>$ 15000000</td>\n",
       "      <td>226.039</td>\n",
       "      <td>7.4</td>\n",
       "    </tr>\n",
       "    <tr>\n",
       "      <th>99</th>\n",
       "      <td>tt1832382</td>\n",
       "      <td>Jodaeiye Nader az Simin</td>\n",
       "      <td>2011-10-21</td>\n",
       "      <td>Drama</td>\n",
       "      <td>123</td>\n",
       "      <td>Iran</td>\n",
       "      <td>PG-13</td>\n",
       "      <td>Asghar Farhadi</td>\n",
       "      <td>$ 22926076</td>\n",
       "      <td>214.165</td>\n",
       "      <td>7.4</td>\n",
       "    </tr>\n",
       "    <tr>\n",
       "      <th>100</th>\n",
       "      <td>tt0045152</td>\n",
       "      <td>Singin' in the Rain</td>\n",
       "      <td>1953-02-05</td>\n",
       "      <td>Comedy, Musical, Romance</td>\n",
       "      <td>103</td>\n",
       "      <td>USA</td>\n",
       "      <td>NaN</td>\n",
       "      <td>Stanley Donen</td>\n",
       "      <td>$ 1864182</td>\n",
       "      <td>213.152</td>\n",
       "      <td>7.4</td>\n",
       "    </tr>\n",
       "  </tbody>\n",
       "</table>\n",
       "</div>"
      ],
      "text/plain": [
       "    imbd title id               original titlê release year  \\\n",
       "91      tt0086879                      Amadeus   1985-02-15   \n",
       "92      tt0052357                      Vertigo   1958-11-18   \n",
       "93      tt0053125           North by Northwest   1959-10-28   \n",
       "94      tt2106476                       Jagten   2012-11-22   \n",
       "95      tt0056172           Lawrence of Arabia   1963-10-29   \n",
       "96      tt0070735                    The Sting   1974-03-21   \n",
       "97      tt0082096                     Das Boot   1982-03-18   \n",
       "98      tt0059578  Per qualche dollaro in piÃ¹   1965-12-20   \n",
       "99      tt1832382      Jodaeiye Nader az Simin   2011-10-21   \n",
       "100     tt0045152          Singin' in the Rain   1953-02-05   \n",
       "\n",
       "                           genrë¨ duration       country content rating  \\\n",
       "91      Biography, Drama, History      160           USA              R   \n",
       "92     Mystery, Romance, Thriller      128           USA            NaN   \n",
       "93   Adventure, Mystery, Thriller      136           USA            NaN   \n",
       "94                          Drama      115       Denmark              R   \n",
       "95    Adventure, Biography, Drama      228            UK             PG   \n",
       "96           Comedy, Crime, Drama      129           USA             PG   \n",
       "97     Adventure, Drama, Thriller      149  West Germany              R   \n",
       "98                        Western      132         Italy            NaN   \n",
       "99                          Drama      123          Iran          PG-13   \n",
       "100      Comedy, Musical, Romance      103           USA            NaN   \n",
       "\n",
       "              director       income   votes  score  \n",
       "91        Milos Forman   $ 52066791  361.028   7.6  \n",
       "92    Alfred Hitchcock    $ 7796389  352.786   7.5  \n",
       "93    Alfred Hitchcock      $ 73446  291.628   7.5  \n",
       "94   Thomas Vinterberg   $ 15843274  269.616   7.5  \n",
       "95          David Lean   $ 45710874  261.504   7.5  \n",
       "96     George Roy Hill  $ 156000000  236.285   7.5  \n",
       "97   Wolfgang Petersen   $ 11487676  226.427   7.5  \n",
       "98        Sergio Leone   $ 15000000  226.039   7.4  \n",
       "99      Asghar Farhadi   $ 22926076  214.165   7.4  \n",
       "100      Stanley Donen    $ 1864182  213.152   7.4  "
      ]
     },
     "execution_count": 8,
     "metadata": {},
     "output_type": "execute_result"
    }
   ],
   "source": [
    "# Interogating the last 10 data in the dataset\n",
    "df.tail(10)"
   ]
  },
  {
   "cell_type": "code",
   "execution_count": 9,
   "id": "f448a01e",
   "metadata": {},
   "outputs": [],
   "source": [
    "# Renaming some column names for easy reference\n",
    "df = df.rename(columns={'imbd title id':'movie_id','original titlê':'movie_title','genrë¨':'genre',\n",
    "                   'content rating':'ratings','release year':'release_date'})"
   ]
  },
  {
   "cell_type": "code",
   "execution_count": 10,
   "id": "c47986a4",
   "metadata": {},
   "outputs": [],
   "source": [
    "# Replace \"Inf\" with NaN in the dataset\n",
    "df = df.replace(\"Inf\", float(\"NaN\"))"
   ]
  },
  {
   "cell_type": "code",
   "execution_count": 11,
   "id": "2ea0e5ca",
   "metadata": {},
   "outputs": [],
   "source": [
    "# Replace \"Nan\" with NaN in the dataset\n",
    "df = df.replace(\"Nan\", float(\"NaN\"))"
   ]
  },
  {
   "cell_type": "code",
   "execution_count": 12,
   "id": "d54f26c6",
   "metadata": {},
   "outputs": [
    {
     "data": {
      "text/plain": [
       "movie_id         1\n",
       "movie_title      1\n",
       "release_date     1\n",
       "genre            1\n",
       "duration         4\n",
       "country          1\n",
       "ratings         24\n",
       "director         1\n",
       "income           1\n",
       " votes           1\n",
       "score            1\n",
       "dtype: int64"
      ]
     },
     "execution_count": 12,
     "metadata": {},
     "output_type": "execute_result"
    }
   ],
   "source": [
    "# Checking for rows containing null or missing values\n",
    "df.isnull().sum()"
   ]
  },
  {
   "cell_type": "code",
   "execution_count": 13,
   "id": "9a3c8920",
   "metadata": {},
   "outputs": [],
   "source": [
    "# Dropping all rows containing null or missing values\n",
    "df = df.dropna()"
   ]
  },
  {
   "cell_type": "code",
   "execution_count": 14,
   "id": "9f5b2191",
   "metadata": {},
   "outputs": [
    {
     "data": {
      "text/plain": [
       "movie_id        0\n",
       "movie_title     0\n",
       "release_date    0\n",
       "genre           0\n",
       "duration        0\n",
       "country         0\n",
       "ratings         0\n",
       "director        0\n",
       "income          0\n",
       " votes          0\n",
       "score           0\n",
       "dtype: int64"
      ]
     },
     "execution_count": 14,
     "metadata": {},
     "output_type": "execute_result"
    }
   ],
   "source": [
    "# Verifying that there are no null or missing values\n",
    "df.isnull().sum()"
   ]
  },
  {
   "cell_type": "code",
   "execution_count": 15,
   "id": "8143c362",
   "metadata": {},
   "outputs": [
    {
     "data": {
      "text/plain": [
       "0"
      ]
     },
     "execution_count": 15,
     "metadata": {},
     "output_type": "execute_result"
    }
   ],
   "source": [
    "#Checking for the number of of duplicated rows\n",
    "df.duplicated().sum()"
   ]
  },
  {
   "cell_type": "code",
   "execution_count": 16,
   "id": "ad64608b",
   "metadata": {},
   "outputs": [
    {
     "data": {
      "text/plain": [
       "1"
      ]
     },
     "execution_count": 16,
     "metadata": {},
     "output_type": "execute_result"
    }
   ],
   "source": [
    "# Verifying that all rows have unique values\n",
    "df.duplicated().nunique()"
   ]
  },
  {
   "cell_type": "code",
   "execution_count": 17,
   "id": "32d0ebad",
   "metadata": {},
   "outputs": [],
   "source": [
    "# Resetting the row index numbers\n",
    "df = df.reset_index(drop=True)"
   ]
  },
  {
   "cell_type": "markdown",
   "id": "4da777dc",
   "metadata": {},
   "source": [
    "### 2.0 Checking all the columns "
   ]
  },
  {
   "cell_type": "markdown",
   "id": "e81ecf26",
   "metadata": {},
   "source": [
    "**2.1 Movie_id Column**"
   ]
  },
  {
   "cell_type": "code",
   "execution_count": 18,
   "id": "f8439fad",
   "metadata": {},
   "outputs": [
    {
     "data": {
      "text/plain": [
       "0     tt0111161\n",
       "1     tt0068646\n",
       "2     tt0468569\n",
       "3     tt0071562\n",
       "4     tt0110912\n",
       "        ...    \n",
       "69    tt2106476\n",
       "70    tt0056172\n",
       "71    tt0070735\n",
       "72    tt0082096\n",
       "73    tt1832382\n",
       "Name: movie_id, Length: 74, dtype: object"
      ]
     },
     "execution_count": 18,
     "metadata": {},
     "output_type": "execute_result"
    }
   ],
   "source": [
    "# Checking movie_id column\n",
    "df[\"movie_id\"]"
   ]
  },
  {
   "cell_type": "code",
   "execution_count": 19,
   "id": "8d7a8058",
   "metadata": {
    "scrolled": true
   },
   "outputs": [],
   "source": [
    "# All looks good with movie_id column"
   ]
  },
  {
   "cell_type": "markdown",
   "id": "19f48aa0",
   "metadata": {},
   "source": [
    "**2.2 Movie_title Column**"
   ]
  },
  {
   "cell_type": "code",
   "execution_count": 20,
   "id": "f5552fcd",
   "metadata": {},
   "outputs": [
    {
     "data": {
      "text/plain": [
       "0     The Shawshank Redemption\n",
       "1                The Godfather\n",
       "2              The Dark Knight\n",
       "3       The Godfather: Part II\n",
       "4                 Pulp Fiction\n",
       "                ...           \n",
       "69                      Jagten\n",
       "70          Lawrence of Arabia\n",
       "71                   The Sting\n",
       "72                    Das Boot\n",
       "73     Jodaeiye Nader az Simin\n",
       "Name: movie_title, Length: 74, dtype: object"
      ]
     },
     "execution_count": 20,
     "metadata": {},
     "output_type": "execute_result"
    }
   ],
   "source": [
    "# Checking movie_title column\n",
    "df[\"movie_title\"]"
   ]
  },
  {
   "cell_type": "code",
   "execution_count": 21,
   "id": "18670e48",
   "metadata": {},
   "outputs": [],
   "source": [
    "# Replacing all invalid characters in the column\n",
    "df[\"movie_title\"] = df[\"movie_title\"].str.replace(\"©\", \"c\").str.replace(\"Ã\", \"A\")"
   ]
  },
  {
   "cell_type": "code",
   "execution_count": 22,
   "id": "cf67daa4",
   "metadata": {},
   "outputs": [
    {
     "data": {
      "text/plain": [
       "0     The Shawshank Redemption\n",
       "1                The Godfather\n",
       "2              The Dark Knight\n",
       "3       The Godfather: Part II\n",
       "4                 Pulp Fiction\n",
       "                ...           \n",
       "69                      Jagten\n",
       "70          Lawrence of Arabia\n",
       "71                   The Sting\n",
       "72                    Das Boot\n",
       "73     Jodaeiye Nader az Simin\n",
       "Name: movie_title, Length: 74, dtype: object"
      ]
     },
     "execution_count": 22,
     "metadata": {},
     "output_type": "execute_result"
    }
   ],
   "source": [
    "df[\"movie_title\"]"
   ]
  },
  {
   "cell_type": "markdown",
   "id": "99607e49",
   "metadata": {},
   "source": [
    "**2.3 Release_date Column**"
   ]
  },
  {
   "cell_type": "code",
   "execution_count": 23,
   "id": "28a8443d",
   "metadata": {
    "scrolled": false
   },
   "outputs": [
    {
     "data": {
      "text/plain": [
       "0       1995-02-10\n",
       "1       09 21 1972\n",
       "2      23 -07-2008\n",
       "3       1975-09-25\n",
       "4       1994-10-28\n",
       "          ...     \n",
       "69      2012-11-22\n",
       "70      1963-10-29\n",
       "71      1974-03-21\n",
       "72      1982-03-18\n",
       "73      2011-10-21\n",
       "Name: release_date, Length: 74, dtype: object"
      ]
     },
     "execution_count": 23,
     "metadata": {},
     "output_type": "execute_result"
    }
   ],
   "source": [
    "# Checking release_date column\n",
    "df[\"release_date\"]"
   ]
  },
  {
   "cell_type": "code",
   "execution_count": 24,
   "id": "752728ed",
   "metadata": {
    "scrolled": true
   },
   "outputs": [],
   "source": [
    "# Convert to datetime to get all the date in Year-Month-Day format\n",
    "df['release_date'] = pd.to_datetime(df['release_date'], errors='coerce')"
   ]
  },
  {
   "cell_type": "code",
   "execution_count": 25,
   "id": "c159e3cf",
   "metadata": {},
   "outputs": [
    {
     "data": {
      "text/plain": [
       "count                      72\n",
       "unique                     71\n",
       "top       2000-05-19 00:00:00\n",
       "freq                        2\n",
       "first     1937-03-12 00:00:00\n",
       "last      2046-11-21 00:00:00\n",
       "Name: release_date, dtype: object"
      ]
     },
     "execution_count": 25,
     "metadata": {},
     "output_type": "execute_result"
    }
   ],
   "source": [
    "#Checking the maximum and minimum values\n",
    "df['release_date'].describe()"
   ]
  },
  {
   "cell_type": "code",
   "execution_count": 26,
   "id": "ecef3568",
   "metadata": {},
   "outputs": [],
   "source": [
    "#Dropping NaT and incorrect date in th column\n",
    "df = df[~df['release_date'].isin(['NaT', \"2046-11-21\"])].reset_index(drop=True)"
   ]
  },
  {
   "cell_type": "code",
   "execution_count": 27,
   "id": "e810add3",
   "metadata": {
    "scrolled": false
   },
   "outputs": [
    {
     "data": {
      "text/plain": [
       "count                      71\n",
       "unique                     70\n",
       "top       2000-05-19 00:00:00\n",
       "freq                        2\n",
       "first     1937-03-12 00:00:00\n",
       "last      2015-02-12 00:00:00\n",
       "Name: release_date, dtype: object"
      ]
     },
     "execution_count": 27,
     "metadata": {},
     "output_type": "execute_result"
    }
   ],
   "source": [
    "df['release_date'].describe()"
   ]
  },
  {
   "cell_type": "code",
   "execution_count": 28,
   "id": "a1c5864e",
   "metadata": {
    "scrolled": true
   },
   "outputs": [
    {
     "data": {
      "text/plain": [
       "0    1995-02-10\n",
       "1    1972-09-21\n",
       "2    2008-07-23\n",
       "3    1975-09-25\n",
       "4    1994-10-28\n",
       "        ...    \n",
       "66   2012-11-22\n",
       "67   1963-10-29\n",
       "68   1974-03-21\n",
       "69   1982-03-18\n",
       "70   2011-10-21\n",
       "Name: release_date, Length: 71, dtype: datetime64[ns]"
      ]
     },
     "execution_count": 28,
     "metadata": {},
     "output_type": "execute_result"
    }
   ],
   "source": [
    "df[\"release_date\"]"
   ]
  },
  {
   "cell_type": "markdown",
   "id": "98627f7c",
   "metadata": {},
   "source": [
    "**2.4 Genre Column**"
   ]
  },
  {
   "cell_type": "code",
   "execution_count": 29,
   "id": "1e337200",
   "metadata": {},
   "outputs": [
    {
     "data": {
      "text/plain": [
       "0                           Drama\n",
       "1                    Crime, Drama\n",
       "2            Action, Crime, Drama\n",
       "3                    Crime, Drama\n",
       "4                    Crime, Drama\n",
       "                 ...             \n",
       "66                          Drama\n",
       "67    Adventure, Biography, Drama\n",
       "68           Comedy, Crime, Drama\n",
       "69     Adventure, Drama, Thriller\n",
       "70                          Drama\n",
       "Name: genre, Length: 71, dtype: object"
      ]
     },
     "execution_count": 29,
     "metadata": {},
     "output_type": "execute_result"
    }
   ],
   "source": [
    "# Checking Genre column\n",
    "df[\"genre\"]"
   ]
  },
  {
   "cell_type": "code",
   "execution_count": 30,
   "id": "d17e1376",
   "metadata": {},
   "outputs": [],
   "source": [
    "# Replacing and keep first genre catergory in the column\n",
    "df.genre=df.genre.str.split(',',expand=True)[0].str[0:]"
   ]
  },
  {
   "cell_type": "code",
   "execution_count": 31,
   "id": "4c6fa556",
   "metadata": {},
   "outputs": [
    {
     "data": {
      "text/plain": [
       "0         Drama\n",
       "1         Crime\n",
       "2        Action\n",
       "3         Crime\n",
       "4         Crime\n",
       "        ...    \n",
       "66        Drama\n",
       "67    Adventure\n",
       "68       Comedy\n",
       "69    Adventure\n",
       "70        Drama\n",
       "Name: genre, Length: 71, dtype: object"
      ]
     },
     "execution_count": 31,
     "metadata": {},
     "output_type": "execute_result"
    }
   ],
   "source": [
    "df[\"genre\"]"
   ]
  },
  {
   "cell_type": "markdown",
   "id": "22f060ce",
   "metadata": {},
   "source": [
    "**2.5 Duration Column**"
   ]
  },
  {
   "cell_type": "code",
   "execution_count": 32,
   "id": "06db39e9",
   "metadata": {},
   "outputs": [
    {
     "data": {
      "text/plain": [
       "0     142\n",
       "1     175\n",
       "2     152\n",
       "3     220\n",
       "4        \n",
       "     ... \n",
       "66    115\n",
       "67    228\n",
       "68    129\n",
       "69    149\n",
       "70    123\n",
       "Name: duration, Length: 71, dtype: object"
      ]
     },
     "execution_count": 32,
     "metadata": {},
     "output_type": "execute_result"
    }
   ],
   "source": [
    "# Checking Duration column\n",
    "df[\"duration\"]"
   ]
  },
  {
   "cell_type": "code",
   "execution_count": 33,
   "id": "d112805d",
   "metadata": {},
   "outputs": [],
   "source": [
    "# Replacing all invalid characters in the column\n",
    "df[\"duration\"] = df[\"duration\"].str.replace(\"Not Applicable\", \"0\").str.replace(\"-\", \"0\")"
   ]
  },
  {
   "cell_type": "code",
   "execution_count": 34,
   "id": "20a567e3",
   "metadata": {},
   "outputs": [],
   "source": [
    "# Convert the Duration column to integer\n",
    "df[\"duration\"] = pd.to_numeric(df[\"duration\"], errors=\"coerce\")"
   ]
  },
  {
   "cell_type": "code",
   "execution_count": 35,
   "id": "a889dce6",
   "metadata": {},
   "outputs": [],
   "source": [
    "# Replacing NaN and 0 with the mean value in the column\n",
    "mean = df[\"duration\"].mean()\n",
    "df[\"duration\"] = df[\"duration\"].replace({0: mean, np.nan: mean})\n",
    "df[\"duration\"] = df[\"duration\"].astype(int)"
   ]
  },
  {
   "cell_type": "code",
   "execution_count": 36,
   "id": "327c2efa",
   "metadata": {},
   "outputs": [
    {
     "data": {
      "text/plain": [
       "0     142\n",
       "1     175\n",
       "2     152\n",
       "3     220\n",
       "4     134\n",
       "     ... \n",
       "66    115\n",
       "67    228\n",
       "68    129\n",
       "69    149\n",
       "70    123\n",
       "Name: duration, Length: 71, dtype: int32"
      ]
     },
     "execution_count": 36,
     "metadata": {},
     "output_type": "execute_result"
    }
   ],
   "source": [
    "df[\"duration\"]"
   ]
  },
  {
   "cell_type": "markdown",
   "id": "d7311d26",
   "metadata": {},
   "source": [
    "**2.6 Country Column**"
   ]
  },
  {
   "cell_type": "code",
   "execution_count": 37,
   "id": "624d3599",
   "metadata": {},
   "outputs": [
    {
     "data": {
      "text/plain": [
       "0              USA\n",
       "1              USA\n",
       "2               US\n",
       "3              USA\n",
       "4              USA\n",
       "          ...     \n",
       "66         Denmark\n",
       "67              UK\n",
       "68             USA\n",
       "69    West Germany\n",
       "70            Iran\n",
       "Name: country, Length: 71, dtype: object"
      ]
     },
     "execution_count": 37,
     "metadata": {},
     "output_type": "execute_result"
    }
   ],
   "source": [
    "# Checking Country column\n",
    "df[\"country\"]"
   ]
  },
  {
   "cell_type": "code",
   "execution_count": 38,
   "id": "4d7c4c92",
   "metadata": {},
   "outputs": [],
   "source": [
    "# Replace misspelt countries in the column names\n",
    "df[\"country\"] = df[\"country\"].str.replace(\"US.\", \"USA\",).str.replace(\"New Zesland\", \"New Zealand\",).str.replace(re.compile(r\"New Z[ae]land\", re.IGNORECASE), \"New Zealand\")"
   ]
  },
  {
   "cell_type": "code",
   "execution_count": 39,
   "id": "d6db2f31",
   "metadata": {},
   "outputs": [
    {
     "data": {
      "text/plain": [
       "0              USA\n",
       "1              USA\n",
       "2               US\n",
       "3              USA\n",
       "4              USA\n",
       "          ...     \n",
       "66         Denmark\n",
       "67              UK\n",
       "68             USA\n",
       "69    West Germany\n",
       "70            Iran\n",
       "Name: country, Length: 71, dtype: object"
      ]
     },
     "execution_count": 39,
     "metadata": {},
     "output_type": "execute_result"
    }
   ],
   "source": [
    "df[\"country\"]"
   ]
  },
  {
   "cell_type": "markdown",
   "id": "a7618c96",
   "metadata": {},
   "source": [
    "**2.7 Ratings Column**"
   ]
  },
  {
   "cell_type": "code",
   "execution_count": 40,
   "id": "3aff0b79",
   "metadata": {},
   "outputs": [
    {
     "data": {
      "text/plain": [
       "0         R\n",
       "1         R\n",
       "2     PG-13\n",
       "3         R\n",
       "4         R\n",
       "      ...  \n",
       "66        R\n",
       "67       PG\n",
       "68       PG\n",
       "69        R\n",
       "70    PG-13\n",
       "Name: ratings, Length: 71, dtype: object"
      ]
     },
     "execution_count": 40,
     "metadata": {},
     "output_type": "execute_result"
    }
   ],
   "source": [
    "# Checking Ratings column\n",
    "df[\"ratings\"]"
   ]
  },
  {
   "cell_type": "code",
   "execution_count": 41,
   "id": "8ecbc50b",
   "metadata": {},
   "outputs": [],
   "source": [
    "# All looks good with movie_id column"
   ]
  },
  {
   "cell_type": "markdown",
   "id": "4ac892d8",
   "metadata": {},
   "source": [
    "**2.8 Director Column**"
   ]
  },
  {
   "cell_type": "code",
   "execution_count": 42,
   "id": "1ba56945",
   "metadata": {},
   "outputs": [
    {
     "data": {
      "text/plain": [
       "0           Frank Darabont\n",
       "1     Francis Ford Coppola\n",
       "2        Christopher Nolan\n",
       "3     Francis Ford Coppola\n",
       "4        Quentin Tarantino\n",
       "              ...         \n",
       "66       Thomas Vinterberg\n",
       "67              David Lean\n",
       "68         George Roy Hill\n",
       "69       Wolfgang Petersen\n",
       "70          Asghar Farhadi\n",
       "Name: director, Length: 71, dtype: object"
      ]
     },
     "execution_count": 42,
     "metadata": {},
     "output_type": "execute_result"
    }
   ],
   "source": [
    "# Checking Director column\n",
    "df[\"director\"]"
   ]
  },
  {
   "cell_type": "code",
   "execution_count": 43,
   "id": "3038989d",
   "metadata": {},
   "outputs": [],
   "source": [
    "# Replacing all invalid characters in the column\n",
    "df[\"director\"] = df[\"director\"].str.replace(\"Ã¡\", \"ai\")"
   ]
  },
  {
   "cell_type": "code",
   "execution_count": 44,
   "id": "8436d416",
   "metadata": {},
   "outputs": [
    {
     "data": {
      "text/plain": [
       "0           Frank Darabont\n",
       "1     Francis Ford Coppola\n",
       "2        Christopher Nolan\n",
       "3     Francis Ford Coppola\n",
       "4        Quentin Tarantino\n",
       "              ...         \n",
       "66       Thomas Vinterberg\n",
       "67              David Lean\n",
       "68         George Roy Hill\n",
       "69       Wolfgang Petersen\n",
       "70          Asghar Farhadi\n",
       "Name: director, Length: 71, dtype: object"
      ]
     },
     "execution_count": 44,
     "metadata": {},
     "output_type": "execute_result"
    }
   ],
   "source": [
    "df[\"director\"]"
   ]
  },
  {
   "cell_type": "markdown",
   "id": "0c62cbbc",
   "metadata": {},
   "source": [
    "**2.9 Income Column**"
   ]
  },
  {
   "cell_type": "code",
   "execution_count": 45,
   "id": "0a88761b",
   "metadata": {},
   "outputs": [
    {
     "data": {
      "text/plain": [
       "0        $ 28815245\n",
       "1       $ 246120974\n",
       "2      $ 1005455211\n",
       "3     $ 4o8,035,783\n",
       "4       $ 222831817\n",
       "          ...      \n",
       "66       $ 15843274\n",
       "67       $ 45710874\n",
       "68      $ 156000000\n",
       "69       $ 11487676\n",
       "70       $ 22926076\n",
       "Name: income, Length: 71, dtype: object"
      ]
     },
     "execution_count": 45,
     "metadata": {},
     "output_type": "execute_result"
    }
   ],
   "source": [
    "# Checking Income column\n",
    "df[\"income\"]"
   ]
  },
  {
   "cell_type": "code",
   "execution_count": 46,
   "id": "532a1124",
   "metadata": {},
   "outputs": [],
   "source": [
    "# Replacing all invalid characters in the column\n",
    "df[\"income\"] = df[\"income\"].astype(str)\n",
    "df[\"income\"] = df[\"income\"].str.replace(r'\\$|,', '')\n",
    "df[\"income\"] = df[\"income\"].str.replace('o', '0')\n",
    "df[\"income\"] = pd.to_numeric(df[\"income\"], errors='coerce')"
   ]
  },
  {
   "cell_type": "code",
   "execution_count": 47,
   "id": "bbec37be",
   "metadata": {},
   "outputs": [
    {
     "data": {
      "text/plain": [
       "0       28815245\n",
       "1      246120974\n",
       "2     1005455211\n",
       "3      408035783\n",
       "4      222831817\n",
       "         ...    \n",
       "66      15843274\n",
       "67      45710874\n",
       "68     156000000\n",
       "69      11487676\n",
       "70      22926076\n",
       "Name: income, Length: 71, dtype: int64"
      ]
     },
     "execution_count": 47,
     "metadata": {},
     "output_type": "execute_result"
    }
   ],
   "source": [
    "df[\"income\"]"
   ]
  },
  {
   "cell_type": "markdown",
   "id": "a962a50a",
   "metadata": {},
   "source": [
    "**2.10 Votes Column**"
   ]
  },
  {
   "cell_type": "code",
   "execution_count": 48,
   "id": "ea883319",
   "metadata": {},
   "outputs": [],
   "source": [
    "# Checking Votes column\n",
    "df.columns = df.columns.str.replace(\" \", \"\")"
   ]
  },
  {
   "cell_type": "code",
   "execution_count": 49,
   "id": "1813bcce",
   "metadata": {
    "scrolled": true
   },
   "outputs": [
    {
     "data": {
      "text/plain": [
       "0     2.278.845\n",
       "1     1.572.674\n",
       "2     2.241.615\n",
       "3     1.098.714\n",
       "4     1.780.147\n",
       "        ...    \n",
       "66      269.616\n",
       "67      261.504\n",
       "68      236.285\n",
       "69      226.427\n",
       "70      214.165\n",
       "Name: votes, Length: 71, dtype: object"
      ]
     },
     "execution_count": 49,
     "metadata": {},
     "output_type": "execute_result"
    }
   ],
   "source": [
    "# Checking Votes column\n",
    "df['votes']"
   ]
  },
  {
   "cell_type": "code",
   "execution_count": 50,
   "id": "b1bab9d7",
   "metadata": {},
   "outputs": [],
   "source": [
    "# All looks good with movie_id column"
   ]
  },
  {
   "cell_type": "markdown",
   "id": "e5bda2de",
   "metadata": {},
   "source": [
    "**2.11 Score Column**"
   ]
  },
  {
   "cell_type": "code",
   "execution_count": 51,
   "id": "9939dfbd",
   "metadata": {},
   "outputs": [
    {
     "data": {
      "text/plain": [
       "0      9.3\n",
       "1      9.2\n",
       "2       9.\n",
       "3     9,.0\n",
       "4     8,9f\n",
       "      ... \n",
       "66     7.5\n",
       "67     7.5\n",
       "68     7.5\n",
       "69     7.5\n",
       "70     7.4\n",
       "Name: score, Length: 71, dtype: object"
      ]
     },
     "execution_count": 51,
     "metadata": {},
     "output_type": "execute_result"
    }
   ],
   "source": [
    "# Checking Score column\n",
    "df[\"score\"]"
   ]
  },
  {
   "cell_type": "code",
   "execution_count": 52,
   "id": "554f193e",
   "metadata": {},
   "outputs": [],
   "source": [
    "# Replace the invalid characters in the column\n",
    "df[\"score\"] = df[\"score\"].str.replace(\",.\", \".\").str.replace(\".\", \"\").str.replace(\":\", \".\").str.replace(\"f\", \"\").str.replace(\"e-0\", \"\").astype(float)"
   ]
  },
  {
   "cell_type": "code",
   "execution_count": 53,
   "id": "bee9f57a",
   "metadata": {},
   "outputs": [
    {
     "data": {
      "text/plain": [
       "0     93.0\n",
       "1     92.0\n",
       "2      9.0\n",
       "3     90.0\n",
       "4      8.0\n",
       "      ... \n",
       "66    75.0\n",
       "67    75.0\n",
       "68    75.0\n",
       "69    75.0\n",
       "70    74.0\n",
       "Name: score, Length: 71, dtype: float64"
      ]
     },
     "execution_count": 53,
     "metadata": {},
     "output_type": "execute_result"
    }
   ],
   "source": [
    "df[\"score\"]"
   ]
  },
  {
   "cell_type": "code",
   "execution_count": 54,
   "id": "3df44e80",
   "metadata": {},
   "outputs": [
    {
     "data": {
      "text/html": [
       "<div>\n",
       "<style scoped>\n",
       "    .dataframe tbody tr th:only-of-type {\n",
       "        vertical-align: middle;\n",
       "    }\n",
       "\n",
       "    .dataframe tbody tr th {\n",
       "        vertical-align: top;\n",
       "    }\n",
       "\n",
       "    .dataframe thead th {\n",
       "        text-align: right;\n",
       "    }\n",
       "</style>\n",
       "<table border=\"1\" class=\"dataframe\">\n",
       "  <thead>\n",
       "    <tr style=\"text-align: right;\">\n",
       "      <th></th>\n",
       "      <th>movie_id</th>\n",
       "      <th>movie_title</th>\n",
       "      <th>release_date</th>\n",
       "      <th>genre</th>\n",
       "      <th>duration</th>\n",
       "      <th>country</th>\n",
       "      <th>ratings</th>\n",
       "      <th>director</th>\n",
       "      <th>income</th>\n",
       "      <th>votes</th>\n",
       "      <th>score</th>\n",
       "    </tr>\n",
       "  </thead>\n",
       "  <tbody>\n",
       "    <tr>\n",
       "      <th>0</th>\n",
       "      <td>tt0111161</td>\n",
       "      <td>The Shawshank Redemption</td>\n",
       "      <td>1995-02-10</td>\n",
       "      <td>Drama</td>\n",
       "      <td>142</td>\n",
       "      <td>USA</td>\n",
       "      <td>R</td>\n",
       "      <td>Frank Darabont</td>\n",
       "      <td>28815245</td>\n",
       "      <td>2.278.845</td>\n",
       "      <td>93.0</td>\n",
       "    </tr>\n",
       "    <tr>\n",
       "      <th>1</th>\n",
       "      <td>tt0068646</td>\n",
       "      <td>The Godfather</td>\n",
       "      <td>1972-09-21</td>\n",
       "      <td>Crime</td>\n",
       "      <td>175</td>\n",
       "      <td>USA</td>\n",
       "      <td>R</td>\n",
       "      <td>Francis Ford Coppola</td>\n",
       "      <td>246120974</td>\n",
       "      <td>1.572.674</td>\n",
       "      <td>92.0</td>\n",
       "    </tr>\n",
       "    <tr>\n",
       "      <th>2</th>\n",
       "      <td>tt0468569</td>\n",
       "      <td>The Dark Knight</td>\n",
       "      <td>2008-07-23</td>\n",
       "      <td>Action</td>\n",
       "      <td>152</td>\n",
       "      <td>US</td>\n",
       "      <td>PG-13</td>\n",
       "      <td>Christopher Nolan</td>\n",
       "      <td>1005455211</td>\n",
       "      <td>2.241.615</td>\n",
       "      <td>9.0</td>\n",
       "    </tr>\n",
       "    <tr>\n",
       "      <th>3</th>\n",
       "      <td>tt0071562</td>\n",
       "      <td>The Godfather: Part II</td>\n",
       "      <td>1975-09-25</td>\n",
       "      <td>Crime</td>\n",
       "      <td>220</td>\n",
       "      <td>USA</td>\n",
       "      <td>R</td>\n",
       "      <td>Francis Ford Coppola</td>\n",
       "      <td>408035783</td>\n",
       "      <td>1.098.714</td>\n",
       "      <td>90.0</td>\n",
       "    </tr>\n",
       "    <tr>\n",
       "      <th>4</th>\n",
       "      <td>tt0110912</td>\n",
       "      <td>Pulp Fiction</td>\n",
       "      <td>1994-10-28</td>\n",
       "      <td>Crime</td>\n",
       "      <td>134</td>\n",
       "      <td>USA</td>\n",
       "      <td>R</td>\n",
       "      <td>Quentin Tarantino</td>\n",
       "      <td>222831817</td>\n",
       "      <td>1.780.147</td>\n",
       "      <td>8.0</td>\n",
       "    </tr>\n",
       "    <tr>\n",
       "      <th>...</th>\n",
       "      <td>...</td>\n",
       "      <td>...</td>\n",
       "      <td>...</td>\n",
       "      <td>...</td>\n",
       "      <td>...</td>\n",
       "      <td>...</td>\n",
       "      <td>...</td>\n",
       "      <td>...</td>\n",
       "      <td>...</td>\n",
       "      <td>...</td>\n",
       "      <td>...</td>\n",
       "    </tr>\n",
       "    <tr>\n",
       "      <th>66</th>\n",
       "      <td>tt2106476</td>\n",
       "      <td>Jagten</td>\n",
       "      <td>2012-11-22</td>\n",
       "      <td>Drama</td>\n",
       "      <td>115</td>\n",
       "      <td>Denmark</td>\n",
       "      <td>R</td>\n",
       "      <td>Thomas Vinterberg</td>\n",
       "      <td>15843274</td>\n",
       "      <td>269.616</td>\n",
       "      <td>75.0</td>\n",
       "    </tr>\n",
       "    <tr>\n",
       "      <th>67</th>\n",
       "      <td>tt0056172</td>\n",
       "      <td>Lawrence of Arabia</td>\n",
       "      <td>1963-10-29</td>\n",
       "      <td>Adventure</td>\n",
       "      <td>228</td>\n",
       "      <td>UK</td>\n",
       "      <td>PG</td>\n",
       "      <td>David Lean</td>\n",
       "      <td>45710874</td>\n",
       "      <td>261.504</td>\n",
       "      <td>75.0</td>\n",
       "    </tr>\n",
       "    <tr>\n",
       "      <th>68</th>\n",
       "      <td>tt0070735</td>\n",
       "      <td>The Sting</td>\n",
       "      <td>1974-03-21</td>\n",
       "      <td>Comedy</td>\n",
       "      <td>129</td>\n",
       "      <td>USA</td>\n",
       "      <td>PG</td>\n",
       "      <td>George Roy Hill</td>\n",
       "      <td>156000000</td>\n",
       "      <td>236.285</td>\n",
       "      <td>75.0</td>\n",
       "    </tr>\n",
       "    <tr>\n",
       "      <th>69</th>\n",
       "      <td>tt0082096</td>\n",
       "      <td>Das Boot</td>\n",
       "      <td>1982-03-18</td>\n",
       "      <td>Adventure</td>\n",
       "      <td>149</td>\n",
       "      <td>West Germany</td>\n",
       "      <td>R</td>\n",
       "      <td>Wolfgang Petersen</td>\n",
       "      <td>11487676</td>\n",
       "      <td>226.427</td>\n",
       "      <td>75.0</td>\n",
       "    </tr>\n",
       "    <tr>\n",
       "      <th>70</th>\n",
       "      <td>tt1832382</td>\n",
       "      <td>Jodaeiye Nader az Simin</td>\n",
       "      <td>2011-10-21</td>\n",
       "      <td>Drama</td>\n",
       "      <td>123</td>\n",
       "      <td>Iran</td>\n",
       "      <td>PG-13</td>\n",
       "      <td>Asghar Farhadi</td>\n",
       "      <td>22926076</td>\n",
       "      <td>214.165</td>\n",
       "      <td>74.0</td>\n",
       "    </tr>\n",
       "  </tbody>\n",
       "</table>\n",
       "<p>71 rows × 11 columns</p>\n",
       "</div>"
      ],
      "text/plain": [
       "     movie_id               movie_title release_date      genre  duration  \\\n",
       "0   tt0111161  The Shawshank Redemption   1995-02-10      Drama       142   \n",
       "1   tt0068646             The Godfather   1972-09-21      Crime       175   \n",
       "2   tt0468569           The Dark Knight   2008-07-23     Action       152   \n",
       "3   tt0071562    The Godfather: Part II   1975-09-25      Crime       220   \n",
       "4   tt0110912              Pulp Fiction   1994-10-28      Crime       134   \n",
       "..        ...                       ...          ...        ...       ...   \n",
       "66  tt2106476                    Jagten   2012-11-22      Drama       115   \n",
       "67  tt0056172        Lawrence of Arabia   1963-10-29  Adventure       228   \n",
       "68  tt0070735                 The Sting   1974-03-21     Comedy       129   \n",
       "69  tt0082096                  Das Boot   1982-03-18  Adventure       149   \n",
       "70  tt1832382   Jodaeiye Nader az Simin   2011-10-21      Drama       123   \n",
       "\n",
       "         country ratings              director      income      votes  score  \n",
       "0            USA       R        Frank Darabont    28815245  2.278.845   93.0  \n",
       "1            USA       R  Francis Ford Coppola   246120974  1.572.674   92.0  \n",
       "2             US   PG-13     Christopher Nolan  1005455211  2.241.615    9.0  \n",
       "3            USA       R  Francis Ford Coppola   408035783  1.098.714   90.0  \n",
       "4            USA       R     Quentin Tarantino   222831817  1.780.147    8.0  \n",
       "..           ...     ...                   ...         ...        ...    ...  \n",
       "66       Denmark       R     Thomas Vinterberg    15843274    269.616   75.0  \n",
       "67            UK      PG            David Lean    45710874    261.504   75.0  \n",
       "68           USA      PG       George Roy Hill   156000000    236.285   75.0  \n",
       "69  West Germany       R     Wolfgang Petersen    11487676    226.427   75.0  \n",
       "70          Iran   PG-13        Asghar Farhadi    22926076    214.165   74.0  \n",
       "\n",
       "[71 rows x 11 columns]"
      ]
     },
     "execution_count": 54,
     "metadata": {},
     "output_type": "execute_result"
    }
   ],
   "source": [
    "# Display the cleaned dataframe\n",
    "df"
   ]
  },
  {
   "cell_type": "markdown",
   "id": "35824868",
   "metadata": {},
   "source": [
    "*** After cleaning and wrangling the messy data of 101 rows and 12 columns, we ended up with 71 rows and 11 columns ***"
   ]
  },
  {
   "cell_type": "code",
   "execution_count": 55,
   "id": "39cf29d8",
   "metadata": {},
   "outputs": [],
   "source": [
    "df.to_csv(\"cleaned_messy_data.csv\", index=False)"
   ]
  },
  {
   "cell_type": "code",
   "execution_count": null,
   "id": "d9b9709f",
   "metadata": {},
   "outputs": [],
   "source": []
  }
 ],
 "metadata": {
  "kernelspec": {
   "display_name": "Python 3 (ipykernel)",
   "language": "python",
   "name": "python3"
  },
  "language_info": {
   "codemirror_mode": {
    "name": "ipython",
    "version": 3
   },
   "file_extension": ".py",
   "mimetype": "text/x-python",
   "name": "python",
   "nbconvert_exporter": "python",
   "pygments_lexer": "ipython3",
   "version": "3.9.13"
  }
 },
 "nbformat": 4,
 "nbformat_minor": 5
}
